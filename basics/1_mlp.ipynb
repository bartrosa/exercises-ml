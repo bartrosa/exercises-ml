{
 "cells": [
  {
   "cell_type": "code",
   "execution_count": 15,
   "metadata": {},
   "outputs": [],
   "source": [
    "import torch\n",
    "import torch.nn as nn\n",
    "import torch.optim as optim\n",
    "from torch.utils.data import DataLoader, TensorDataset"
   ]
  },
  {
   "cell_type": "code",
   "execution_count": 16,
   "metadata": {},
   "outputs": [],
   "source": [
    "# Define the Multi-Layer Perceptron (MLP) model using nn.Sequential\n",
    "class MLP(nn.Module):\n",
    "    def __init__(self, input_size, hidden_size, output_size):\n",
    "        super(MLP, self).__init__()\n",
    "        self.model = nn.Sequential(\n",
    "            nn.Linear(input_size, hidden_size),\n",
    "            nn.ReLU(),\n",
    "            nn.Linear(hidden_size, output_size)\n",
    "        )\n",
    "    \n",
    "    def forward(self, x):\n",
    "        return self.model(x)"
   ]
  },
  {
   "cell_type": "code",
   "execution_count": 17,
   "metadata": {},
   "outputs": [],
   "source": [
    "# Hyperparameters\n",
    "input_size = 784  # Example for MNIST dataset (28x28 images)\n",
    "hidden_size = 500\n",
    "output_size = 10  # Number of classes (for MNIST, digits 0-9)\n",
    "num_epochs = 5\n",
    "batch_size = 100\n",
    "learning_rate = 0.001"
   ]
  },
  {
   "cell_type": "code",
   "execution_count": 18,
   "metadata": {},
   "outputs": [],
   "source": [
    "# Generate some dummy data (for illustration purposes)\n",
    "# In practice, you would use a real dataset like MNIST\n",
    "x_train = torch.randn(60000, input_size)\n",
    "y_train = torch.randint(0, output_size, (60000,))"
   ]
  },
  {
   "cell_type": "code",
   "execution_count": 19,
   "metadata": {},
   "outputs": [],
   "source": [
    "# Convert to dataset and dataloader\n",
    "train_dataset = TensorDataset(x_train, y_train)\n",
    "train_loader = DataLoader(dataset=train_dataset, batch_size=batch_size, shuffle=True)\n"
   ]
  },
  {
   "cell_type": "code",
   "execution_count": 20,
   "metadata": {},
   "outputs": [],
   "source": [
    "# Initialize the model, loss function, and optimizer\n",
    "model = MLP(input_size, hidden_size, output_size)\n",
    "criterion = nn.CrossEntropyLoss()\n",
    "optimizer = optim.Adam(model.parameters(), lr=learning_rate)"
   ]
  },
  {
   "cell_type": "code",
   "execution_count": 7,
   "metadata": {},
   "outputs": [
    {
     "name": "stdout",
     "output_type": "stream",
     "text": [
      "Epoch [1/5], Step [100/600], Loss: 2.3561\n",
      "Epoch [1/5], Step [200/600], Loss: 2.3620\n",
      "Epoch [1/5], Step [300/600], Loss: 2.3579\n",
      "Epoch [1/5], Step [400/600], Loss: 2.3048\n",
      "Epoch [1/5], Step [500/600], Loss: 2.3244\n",
      "Epoch [1/5], Step [600/600], Loss: 2.3199\n",
      "Epoch [2/5], Step [100/600], Loss: 2.2450\n",
      "Epoch [2/5], Step [200/600], Loss: 2.2875\n",
      "Epoch [2/5], Step [300/600], Loss: 2.2810\n",
      "Epoch [2/5], Step [400/600], Loss: 2.2264\n",
      "Epoch [2/5], Step [500/600], Loss: 2.3044\n",
      "Epoch [2/5], Step [600/600], Loss: 2.3443\n",
      "Epoch [3/5], Step [100/600], Loss: 2.0260\n",
      "Epoch [3/5], Step [200/600], Loss: 2.1488\n",
      "Epoch [3/5], Step [300/600], Loss: 2.1220\n",
      "Epoch [3/5], Step [400/600], Loss: 2.2501\n",
      "Epoch [3/5], Step [500/600], Loss: 2.2245\n",
      "Epoch [3/5], Step [600/600], Loss: 2.1885\n",
      "Epoch [4/5], Step [100/600], Loss: 1.7727\n",
      "Epoch [4/5], Step [200/600], Loss: 1.8452\n",
      "Epoch [4/5], Step [300/600], Loss: 1.7961\n",
      "Epoch [4/5], Step [400/600], Loss: 1.7549\n",
      "Epoch [4/5], Step [500/600], Loss: 1.9244\n",
      "Epoch [4/5], Step [600/600], Loss: 1.7735\n",
      "Epoch [5/5], Step [100/600], Loss: 1.1469\n",
      "Epoch [5/5], Step [200/600], Loss: 1.2308\n",
      "Epoch [5/5], Step [300/600], Loss: 1.1014\n",
      "Epoch [5/5], Step [400/600], Loss: 1.1289\n",
      "Epoch [5/5], Step [500/600], Loss: 1.2705\n",
      "Epoch [5/5], Step [600/600], Loss: 1.3337\n"
     ]
    }
   ],
   "source": [
    "# Training loop CPU\n",
    "for epoch in range(num_epochs):\n",
    "    for i, (images, labels) in enumerate(train_loader):\n",
    "        # Forward pass\n",
    "        outputs = model(images)\n",
    "        loss = criterion(outputs, labels)\n",
    "        \n",
    "        # Backward and optimize\n",
    "        optimizer.zero_grad()\n",
    "        loss.backward()\n",
    "        optimizer.step()\n",
    "        \n",
    "        if (i+1) % 100 == 0:\n",
    "            print(f'Epoch [{epoch+1}/{num_epochs}], Step [{i+1}/{len(train_loader)}], Loss: {loss.item():.4f}')\n"
   ]
  },
  {
   "cell_type": "code",
   "execution_count": 21,
   "metadata": {},
   "outputs": [
    {
     "name": "stdout",
     "output_type": "stream",
     "text": [
      "Epoch [1/5], Step [100/600], Loss: 2.3890\n",
      "Epoch [1/5], Step [200/600], Loss: 2.3031\n",
      "Epoch [1/5], Step [300/600], Loss: 2.3525\n",
      "Epoch [1/5], Step [400/600], Loss: 2.3286\n",
      "Epoch [1/5], Step [500/600], Loss: 2.3137\n",
      "Epoch [1/5], Step [600/600], Loss: 2.3385\n",
      "Epoch [2/5], Step [100/600], Loss: 2.2646\n",
      "Epoch [2/5], Step [200/600], Loss: 2.2344\n",
      "Epoch [2/5], Step [300/600], Loss: 2.2344\n",
      "Epoch [2/5], Step [400/600], Loss: 2.3548\n",
      "Epoch [2/5], Step [500/600], Loss: 2.3089\n",
      "Epoch [2/5], Step [600/600], Loss: 2.3307\n",
      "Epoch [3/5], Step [100/600], Loss: 2.1884\n",
      "Epoch [3/5], Step [200/600], Loss: 2.1998\n",
      "Epoch [3/5], Step [300/600], Loss: 2.1504\n",
      "Epoch [3/5], Step [400/600], Loss: 2.1529\n",
      "Epoch [3/5], Step [500/600], Loss: 2.1320\n",
      "Epoch [3/5], Step [600/600], Loss: 2.2872\n",
      "Epoch [4/5], Step [100/600], Loss: 1.8406\n",
      "Epoch [4/5], Step [200/600], Loss: 1.8064\n",
      "Epoch [4/5], Step [300/600], Loss: 1.8373\n",
      "Epoch [4/5], Step [400/600], Loss: 1.8680\n",
      "Epoch [4/5], Step [500/600], Loss: 1.9216\n",
      "Epoch [4/5], Step [600/600], Loss: 1.8947\n",
      "Epoch [5/5], Step [100/600], Loss: 1.2011\n",
      "Epoch [5/5], Step [200/600], Loss: 1.4978\n",
      "Epoch [5/5], Step [300/600], Loss: 1.3953\n",
      "Epoch [5/5], Step [400/600], Loss: 1.2364\n",
      "Epoch [5/5], Step [500/600], Loss: 1.2973\n",
      "Epoch [5/5], Step [600/600], Loss: 1.3666\n"
     ]
    }
   ],
   "source": [
    "# Training loop GPU\n",
    "\n",
    "device = torch.device('cuda:0' if torch.cuda.is_available() else 'cpu')\n",
    "# Move the model to the GPU\n",
    "model.to(device)\n",
    "\n",
    "# Training loop\n",
    "for epoch in range(num_epochs):\n",
    "    for i, (images, labels) in enumerate(train_loader):\n",
    "        # Move images and labels to the GPU\n",
    "        images = images.to(device)\n",
    "        labels = labels.to(device)\n",
    "\n",
    "        # Forward pass\n",
    "        outputs = model(images)\n",
    "        loss = criterion(outputs, labels)\n",
    "        \n",
    "        # Backward and optimize\n",
    "        optimizer.zero_grad()\n",
    "        loss.backward()\n",
    "        optimizer.step()\n",
    "        \n",
    "        if (i+1) % 100 == 0:\n",
    "            print(f'Epoch [{epoch+1}/{num_epochs}], Step [{i+1}/{len(train_loader)}], Loss: {loss.item():.4f}')\n"
   ]
  },
  {
   "cell_type": "code",
   "execution_count": 8,
   "metadata": {},
   "outputs": [
    {
     "name": "stdout",
     "output_type": "stream",
     "text": [
      "Model saved to mlp_model.pth\n"
     ]
    }
   ],
   "source": [
    "# Save the model checkpoint\n",
    "torch.save(model.state_dict(), 'mlp_model.pth')\n",
    "print('Model saved to mlp_model.pth')"
   ]
  },
  {
   "cell_type": "code",
   "execution_count": 9,
   "metadata": {},
   "outputs": [],
   "source": [
    "# # Initialize the model (with the same architecture)\n",
    "# model = MLP(input_size, hidden_size, output_size)\n",
    "\n",
    "# # Load the model parameters from the saved file\n",
    "# model.load_state_dict(torch.load('mlp_model.pth'))\n",
    "# model.eval()  # Set the model to evaluation mode\n",
    "\n",
    "# # Now the model is ready to be used for inference\n"
   ]
  },
  {
   "cell_type": "code",
   "execution_count": null,
   "metadata": {},
   "outputs": [],
   "source": []
  }
 ],
 "metadata": {
  "kernelspec": {
   "display_name": ".venv",
   "language": "python",
   "name": "python3"
  },
  "language_info": {
   "codemirror_mode": {
    "name": "ipython",
    "version": 3
   },
   "file_extension": ".py",
   "mimetype": "text/x-python",
   "name": "python",
   "nbconvert_exporter": "python",
   "pygments_lexer": "ipython3",
   "version": "3.12.3"
  }
 },
 "nbformat": 4,
 "nbformat_minor": 2
}
